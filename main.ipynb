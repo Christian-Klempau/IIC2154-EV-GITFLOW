{
 "cells": [
  {
   "cell_type": "markdown",
   "metadata": {},
   "source": [
    "## 0. Dataset loading"
   ]
  },
  {
   "cell_type": "code",
   "execution_count": 26,
   "metadata": {},
   "outputs": [],
   "source": [
    "import json\n",
    "DATA_PATH = \"data.json\"\n",
    "def tweets_loader():\n",
    "\n",
    "    with open(DATA_PATH, \"r\", encoding='utf-8') as f:\n",
    "        for line in f:\n",
    "            yield json.loads(line)\n",
    "            "
   ]
  },
  {
   "cell_type": "markdown",
   "metadata": {},
   "source": [
    "## 1. Top 10 most retweeted tweets"
   ]
  },
  {
   "cell_type": "code",
   "execution_count": 29,
   "metadata": {},
   "outputs": [],
   "source": [
    "## \"retweetCount\": <int>\n",
    "\n",
    "import operator\n",
    "import heapq\n",
    "\n",
    "\n",
    "def retrieve_most_retweeted(n_highests=10):\n",
    "    return heapq.nlargest(n_highests, tweets_loader(), key=operator.itemgetter(\"retweetCount\"))"
   ]
  },
  {
   "cell_type": "markdown",
   "metadata": {},
   "source": [
    "### Example"
   ]
  },
  {
   "cell_type": "code",
   "execution_count": 35,
   "metadata": {},
   "outputs": [
    {
     "name": "stdout",
     "output_type": "stream",
     "text": [
      "Top 10 most retweeted found!\n"
     ]
    }
   ],
   "source": [
    "topten_most_tweeted = retrieve_most_retweeted()\n",
    "print(f\"Top {len(topten_most_tweeted)} most retweeted found!\")"
   ]
  },
  {
   "cell_type": "code",
   "execution_count": 37,
   "metadata": {},
   "outputs": [
    {
     "data": {
      "text/plain": [
       "[('Rihanna', 315547),\n",
       " ('Greta Thunberg', 103957),\n",
       " ('Greta Thunberg', 67694),\n",
       " ('Mia K.', 35921),\n",
       " ('Mia K.', 26972),\n",
       " ('JuJu Smith-Schuster', 23251),\n",
       " ('Bob Blackman', 20132),\n",
       " ('Vanessa Nakate', 18744),\n",
       " ('kuz', 17368),\n",
       " ('Amanda Cerny', 15677)]"
      ]
     },
     "execution_count": 37,
     "metadata": {},
     "output_type": "execute_result"
    }
   ],
   "source": [
    "\n",
    "topten_users_by_retweets = [(tweet[\"user\"][\"displayname\"], tweet[\"retweetCount\"]) for tweet in topten_most_tweeted]\n",
    "topten_users_by_retweets"
   ]
  },
  {
   "cell_type": "markdown",
   "metadata": {},
   "source": [
    "## 2. Top 10 users by n° of emitted tweets"
   ]
  },
  {
   "cell_type": "code",
   "execution_count": null,
   "metadata": {},
   "outputs": [],
   "source": [
    "## \"user\" (object) --> {\"id\": my_id, \"name\": my_name, ...}"
   ]
  },
  {
   "cell_type": "markdown",
   "metadata": {},
   "source": [
    "## 3. Top 10 days with most tweets"
   ]
  },
  {
   "cell_type": "code",
   "execution_count": null,
   "metadata": {},
   "outputs": [],
   "source": [
    "## \"created_at\": \"Wed Oct 10 20:19:24 +0000 2018\""
   ]
  },
  {
   "cell_type": "markdown",
   "metadata": {},
   "source": [
    "## 4. Top 10 most used hashtags"
   ]
  },
  {
   "cell_type": "code",
   "execution_count": null,
   "metadata": {},
   "outputs": [],
   "source": []
  }
 ],
 "metadata": {
  "interpreter": {
   "hash": "e7370f93d1d0cde622a1f8e1c04877d8463912d04d973331ad4851f04de6915a"
  },
  "kernelspec": {
   "display_name": "Python 3.10.2 64-bit",
   "language": "python",
   "name": "python3"
  },
  "language_info": {
   "codemirror_mode": {
    "name": "ipython",
    "version": 3
   },
   "file_extension": ".py",
   "mimetype": "text/x-python",
   "name": "python",
   "nbconvert_exporter": "python",
   "pygments_lexer": "ipython3",
   "version": "3.9.9"
  },
  "orig_nbformat": 4
 },
 "nbformat": 4,
 "nbformat_minor": 2
}
