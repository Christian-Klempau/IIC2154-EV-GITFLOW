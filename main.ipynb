{
 "cells": [
  {
   "cell_type": "markdown",
   "metadata": {},
   "source": [
    "## 0. Dataset loading"
   ]
  },
  {
   "cell_type": "code",
   "execution_count": 95,
   "metadata": {},
   "outputs": [],
   "source": [
    "# DATASET FOUND AT: https://www.kaggle.com/datasets/prathamsharma123/farmers-protest-tweets-dataset-raw-json\n",
    "\n",
    "import json\n",
    "\n",
    "DATA_PATH = \"farmers-protest-tweets-2021-03-5.json\"\n",
    "\n",
    "def load_tweets(path=DATA_PATH):\n",
    "    \"\"\"Generator, that yields json file line by line (each line is a JSON object)\n",
    "\n",
    "    Args:\n",
    "        path (str): The relative path to this file, where the json file is located.\n",
    "\n",
    "    Returns:\n",
    "        dict: returns a json object loaded as a python dict.\n",
    "\n",
    "    \"\"\"\n",
    "\n",
    "    with open(DATA_PATH, \"r\", encoding='utf-8') as f:\n",
    "        for line in f:\n",
    "            yield json.loads(line)\n"
   ]
  },
  {
   "cell_type": "markdown",
   "metadata": {},
   "source": [
    "## 1. Top 10 most retweeted tweets"
   ]
  },
  {
   "cell_type": "code",
   "execution_count": 96,
   "metadata": {},
   "outputs": [],
   "source": [
    "## QUERY: \"retweetCount\": <int>\n",
    "\n",
    "import operator\n",
    "import heapq\n",
    "\n",
    "\n",
    "def retrieve_most_retweeted(n_highests: int=10):\n",
    "    \"\"\"Finds most retweeted tweets of dataset, by number of retweets.\n",
    "\n",
    "    Args:\n",
    "        n_highests (int): The first n highest tweets by number of retweets to return.\n",
    "\n",
    "    Returns:\n",
    "        list: returns a list of tuple triples of user displayname, \n",
    "              retweet count and content, sorted.\n",
    "\n",
    "    \"\"\"\n",
    "\n",
    "    # [tweet_1, tweet_2, ... , tweet_10]\n",
    "    topten_most_retweeted_tweets = heapq.nlargest(n_highests, load_tweets(), key=operator.itemgetter(\"retweetCount\"))\n",
    "\n",
    "    # [(displayname_1, retweet_count_1, content_1), ... (displayname_10, retweet_count_10, content_10)]\n",
    "    return [\n",
    "        (tweet[\"user\"][\"displayname\"], tweet[\"retweetCount\"], tweet[\"content\"])\n",
    "        for tweet in topten_most_retweeted_tweets\n",
    "     ]\n",
    "    "
   ]
  },
  {
   "cell_type": "markdown",
   "metadata": {},
   "source": [
    "### Example"
   ]
  },
  {
   "cell_type": "code",
   "execution_count": 97,
   "metadata": {},
   "outputs": [],
   "source": [
    "# topten_most_retweeted = retrieve_most_retweeted()\n",
    "# print(f\"Top {len(topten_most_retweeted)} most retweeted found!\")"
   ]
  },
  {
   "cell_type": "code",
   "execution_count": 98,
   "metadata": {},
   "outputs": [],
   "source": [
    "# topten_most_retweeted"
   ]
  },
  {
   "cell_type": "markdown",
   "metadata": {},
   "source": [
    "## 2. Top 10 users by n° of emitted tweets"
   ]
  },
  {
   "cell_type": "code",
   "execution_count": 99,
   "metadata": {},
   "outputs": [],
   "source": [
    "## QUERY: \"user\" (object) --> {\"id\": my_id, \"name\": my_name, ...}\n",
    "\n",
    "from collections import defaultdict, Counter\n",
    "\n",
    "def retrieve_most_active_users(n_highests: int=10):\n",
    "    \"\"\"Finds most active users of dataset, by number of tweets.\n",
    "\n",
    "    Args:\n",
    "        n_highests (int): The first n highest users by number of tweets to return.\n",
    "\n",
    "    Returns:\n",
    "        list: returns a list of tuple pairs of displayname and counter, sorted.\n",
    "\n",
    "    \"\"\"\n",
    "\n",
    "\n",
    "    # {uid_1: counter_1, uid_2: counter_2, ...}\n",
    "    users_and_tweets_counter = defaultdict(int)\n",
    "    \n",
    "    # {uid_1: displayname_1, uid_2: displayname_2, ...}\n",
    "    displayname_by_uid = dict()\n",
    "\n",
    "\n",
    "    for tweet in load_tweets():\n",
    "\n",
    "        user_id = tweet[\"user\"][\"id\"]\n",
    "        users_and_tweets_counter[user_id] += 1\n",
    "        displayname_by_uid[user_id] = tweet[\"user\"][\"displayname\"]\n",
    "\n",
    "    # [(id_1: int, counter_1: int), (id_2, counter_2), ... , (id_N, counter_N)]\n",
    "    most_active_uids = Counter(users_and_tweets_counter).most_common(n_highests)\n",
    "\n",
    "    # [(name_1: str, counter_1: int), (name_2, counter_2), ... , (name_N, counter_N)]\n",
    "    return [(displayname_by_uid[user_id], n_tweets) for user_id, n_tweets  in most_active_uids]\n"
   ]
  },
  {
   "cell_type": "markdown",
   "metadata": {},
   "source": [
    "### Example"
   ]
  },
  {
   "cell_type": "code",
   "execution_count": 100,
   "metadata": {},
   "outputs": [],
   "source": [
    "# most_active_users = retrieve_most_active_users()\n",
    "# print(f\"Top {len(most_active_users)} most retweeted found!\")"
   ]
  },
  {
   "cell_type": "code",
   "execution_count": 101,
   "metadata": {},
   "outputs": [],
   "source": [
    "# most_active_users"
   ]
  },
  {
   "cell_type": "markdown",
   "metadata": {},
   "source": [
    "## 3. Top 10 days with most tweets"
   ]
  },
  {
   "cell_type": "code",
   "execution_count": 102,
   "metadata": {},
   "outputs": [],
   "source": [
    "## QUERY: \"date\": str --> \"2021-03-30T03:33:46+00:00\"\n",
    "\n",
    "from collections import defaultdict, Counter\n",
    "\n",
    "def retrieve_most_active_days(n_highests: int=10):\n",
    "    \"\"\"Finds most active users of dataset, by number of tweets.\n",
    "\n",
    "    Args:\n",
    "        n_highests (int): The first n days to return, by highest activity.\n",
    "\n",
    "    Returns:\n",
    "        list: returns a list of tuple pairs of date and counter, sorted.\n",
    "\n",
    "    \"\"\"\n",
    "\n",
    "\n",
    "    # {date_1: counter_1, date_2: counter_2, ...}\n",
    "    days_and_tweets_counter = defaultdict(int)\n",
    "    \n",
    "\n",
    "    for tweet in load_tweets():\n",
    "\n",
    "        # day = datetime.strftime(\n",
    "        #     datetime.strptime(\n",
    "        #     tweet[\"date\"], '%Y-%m-%dT%H:%M:%S+00:00'),\n",
    "        #     '%a-%b-%d-%Y'\n",
    "        # )\n",
    "\n",
    "        # %Y-%m-%d\n",
    "        day = tweet[\"date\"].split(\"T\")[0]\n",
    "\n",
    "        days_and_tweets_counter[day] += 1\n",
    "\n",
    "\n",
    "    # [(date_1: int, counter_1: int), (date_2, counter_2), ... , (date_N, counter_N)]\n",
    "    return Counter(days_and_tweets_counter).most_common(n_highests)\n"
   ]
  },
  {
   "cell_type": "markdown",
   "metadata": {},
   "source": [
    "### Example"
   ]
  },
  {
   "cell_type": "code",
   "execution_count": 103,
   "metadata": {},
   "outputs": [],
   "source": [
    "# most_active_days = retrieve_most_active_days()\n",
    "# print(f\"Top {len(most_active_days)} most active days found!\")"
   ]
  },
  {
   "cell_type": "code",
   "execution_count": 104,
   "metadata": {},
   "outputs": [],
   "source": [
    "# most_active_days"
   ]
  },
  {
   "cell_type": "markdown",
   "metadata": {},
   "source": [
    "## 4. Top 10 most used hashtags"
   ]
  },
  {
   "cell_type": "code",
   "execution_count": 105,
   "metadata": {},
   "outputs": [],
   "source": [
    "## QUERY: \"content\": str --> \"Example tweet #myHashtag end of message\"\n",
    "\n",
    "from collections import defaultdict, Counter\n",
    "import re\n",
    "\n",
    "def retrieve_most_used_hashtags(n_highests: int=10):\n",
    "    \"\"\"Finds most used hashtags of dataset, by number of tweets.\n",
    "\n",
    "    Args:\n",
    "        n_highests (int): The first n hashtags to return, by highest activity.\n",
    "\n",
    "    Returns:\n",
    "        list: returns a list of tuple pairs of hashtag and counter, sorted.\n",
    "\n",
    "    \"\"\"\n",
    "\n",
    "\n",
    "    # {hashtag_1: counter_1, hashtag_2: counter_2, ...}\n",
    "    hashtags_activity_counter = defaultdict(int)\n",
    "    \n",
    "    for tweet in load_tweets():\n",
    "        hashtags = re.findall(r\"#(\\w+)\", tweet[\"renderedContent\"])\n",
    "        if hashtags:\n",
    "            for hashtag in hashtags:\n",
    "                hashtags_activity_counter[hashtag] += 1\n",
    "\n",
    "\n",
    "    # [(hashtag_1: int, counter_1: int), (hashtag_2, counter_2), ... , (hashtag_N, counter_N)]\n",
    "    return Counter(hashtags_activity_counter).most_common(n_highests)\n",
    "\n",
    "# REGEX MATCHER SOURCE: https://stackoverflow.com/questions/2527892/parsing-a-tweet-to-extract-hashtags-into-an-array"
   ]
  },
  {
   "cell_type": "markdown",
   "metadata": {},
   "source": [
    "### Example"
   ]
  },
  {
   "cell_type": "code",
   "execution_count": 106,
   "metadata": {},
   "outputs": [],
   "source": [
    "# most_used_hashtags = retrieve_most_used_hashtags()\n",
    "# print(f\"Top {len(most_used_hashtags)} most used hashtags found!\")"
   ]
  },
  {
   "cell_type": "code",
   "execution_count": 107,
   "metadata": {},
   "outputs": [],
   "source": [
    "# most_used_hashtags"
   ]
  },
  {
   "cell_type": "markdown",
   "metadata": {},
   "source": [
    "## MAIN\n",
    "\n",
    "remember, you need to download the dataset, and have it at the same path as this notebook.\n",
    "The filename is `farmers-protest-tweets-2021-03-5.json` but can be changed at **(0) Dataset Loading**."
   ]
  },
  {
   "cell_type": "code",
   "execution_count": 108,
   "metadata": {},
   "outputs": [],
   "source": [
    "def main(func_number: int):\n",
    "    \"\"\" Runs desired function (options below).\"\"\"\n",
    "\n",
    "    functions = {\n",
    "        1: retrieve_most_retweeted,\n",
    "        2: retrieve_most_active_users,\n",
    "        3: retrieve_most_active_days,\n",
    "        4: retrieve_most_used_hashtags,\n",
    "     }\n",
    "    functions_str = {\n",
    "        1: \"retrieve_most_retweeted\",\n",
    "        2: \"retrieve_most_active_users\",\n",
    "        3: \"retrieve_most_active_days\",\n",
    "        4: \"retrieve_most_used_hashtags\",\n",
    "     }\n",
    "\n",
    "    for key, val in functions_str.items():\n",
    "        print(f\"{key}: {val}\")\n",
    "\n",
    "    if type(func_number) != int or func_number not in functions:\n",
    "        print(f\"{func_number} not a valid option: 1-{len(functions)}\")\n",
    "        return\n",
    "\n",
    "    function = functions[func_number]\n",
    "    print(\"\\n\", f\"Executing {functions_str[func_number]} ... \\n\")\n",
    "    result = function()\n",
    "    for r in result:\n",
    "        print(r)"
   ]
  },
  {
   "cell_type": "code",
   "execution_count": 110,
   "metadata": {},
   "outputs": [
    {
     "name": "stdout",
     "output_type": "stream",
     "text": [
      "1: retrieve_most_retweeted\n",
      "2: retrieve_most_active_users\n",
      "3: retrieve_most_active_days\n",
      "4: retrieve_most_used_hashtags\n",
      "\n",
      " Executing retrieve_most_active_users ... \n",
      "\n",
      "('Harjot Singh', 7134)\n",
      "('ਕਿਸਾਨAndolajivi ravinder kaur चोकीदार ही कातिल है', 2091)\n",
      "('Jaspal Kaur Bains.For love of Punjab,Sikhi & India', 1991)\n",
      "('Jot', 1841)\n",
      "('Theinactiveactivist', 1806)\n",
      "('🍊raman🚜', 1722)\n",
      "('Jaz 🇨🇦🌾ਗਰਮ ਖਿਆਲੀ 📌', 1502)\n",
      "('JassG', 1460)\n",
      "('Kisan Bot🚜🌾', 1453)\n",
      "('mohd khaliquzzama', 1446)\n"
     ]
    }
   ],
   "source": [
    "# 1: retrieve_most_retweeted\n",
    "# 2: retrieve_most_active_users\n",
    "# 3: retrieve_most_active_days\n",
    "# 4: retrieve_most_used_hashtags\n",
    "\n",
    "# CALL THIS WITH AN INT, REPRESENTING THE DESIRED FUNCTION FROM ABOVE\n",
    "main(func_number=2)"
   ]
  },
  {
   "cell_type": "code",
   "execution_count": null,
   "metadata": {},
   "outputs": [],
   "source": []
  }
 ],
 "metadata": {
  "interpreter": {
   "hash": "e7370f93d1d0cde622a1f8e1c04877d8463912d04d973331ad4851f04de6915a"
  },
  "kernelspec": {
   "display_name": "Python 3.10.2 64-bit",
   "language": "python",
   "name": "python3"
  },
  "language_info": {
   "codemirror_mode": {
    "name": "ipython",
    "version": 3
   },
   "file_extension": ".py",
   "mimetype": "text/x-python",
   "name": "python",
   "nbconvert_exporter": "python",
   "pygments_lexer": "ipython3",
   "version": "3.9.9"
  },
  "orig_nbformat": 4
 },
 "nbformat": 4,
 "nbformat_minor": 2
}
