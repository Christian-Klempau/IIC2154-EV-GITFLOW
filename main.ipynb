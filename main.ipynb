{
 "cells": [
  {
   "cell_type": "markdown",
   "metadata": {},
   "source": [
    "## 0. Dataset loading"
   ]
  },
  {
   "cell_type": "code",
   "execution_count": 2,
   "metadata": {},
   "outputs": [],
   "source": [
    "# DATASET FOUND AT: https://www.kaggle.com/datasets/prathamsharma123/farmers-protest-tweets-dataset-raw-json\n",
    "\n",
    "import json\n",
    "\n",
    "DATA_PATH = \"data.json\"\n",
    "\n",
    "def load_tweets(path=DATA_PATH):\n",
    "    \"\"\"Generator, that yields json file line by line (each line is a JSON object)\n",
    "\n",
    "    Args:\n",
    "        path (str): The relative path to this file, where the json file is located.\n",
    "\n",
    "    Returns:\n",
    "        dict: returns a json object loaded as a python dict.\n",
    "\n",
    "    \"\"\"\n",
    "\n",
    "    with open(DATA_PATH, \"r\", encoding='utf-8') as f:\n",
    "        for line in f:\n",
    "            yield json.loads(line)\n"
   ]
  },
  {
   "cell_type": "markdown",
   "metadata": {},
   "source": [
    "## 1. Top 10 most retweeted tweets"
   ]
  },
  {
   "cell_type": "code",
   "execution_count": 27,
   "metadata": {},
   "outputs": [],
   "source": [
    "## QUERY: \"retweetCount\": <int>\n",
    "\n",
    "import operator\n",
    "import heapq\n",
    "\n",
    "\n",
    "def retrieve_most_retweeted(n_highests: int=10):\n",
    "    \"\"\"Finds most retweeted tweets of dataset, by number of retweets.\n",
    "\n",
    "    Args:\n",
    "        n_highests (int): The first n highest tweets by number of retweets to return.\n",
    "\n",
    "    Returns:\n",
    "        list: returns a list of tuple triples of user displayname, \n",
    "              retweet count and content, sorted.\n",
    "\n",
    "    \"\"\"\n",
    "\n",
    "    # [tweet_1, tweet_2, ... , tweet_10]\n",
    "    topten_most_retweeted_tweets = heapq.nlargest(n_highests, load_tweets(), key=operator.itemgetter(\"retweetCount\"))\n",
    "\n",
    "    # [(displayname_1, retweet_count_1, content_1), ... (displayname_10, retweet_count_10, content_10)]\n",
    "    return [\n",
    "        (tweet[\"user\"][\"displayname\"], tweet[\"retweetCount\"], tweet[\"content\"])\n",
    "        for tweet in topten_most_retweeted_tweets\n",
    "     ]\n",
    "    "
   ]
  },
  {
   "cell_type": "markdown",
   "metadata": {},
   "source": [
    "### Example"
   ]
  },
  {
   "cell_type": "code",
   "execution_count": 28,
   "metadata": {},
   "outputs": [
    {
     "name": "stdout",
     "output_type": "stream",
     "text": [
      "Top 10 most retweeted found!\n"
     ]
    }
   ],
   "source": [
    "topten_most_retweeted = retrieve_most_retweeted()\n",
    "print(f\"Top {len(topten_most_retweeted)} most retweeted found!\")"
   ]
  },
  {
   "cell_type": "code",
   "execution_count": 42,
   "metadata": {},
   "outputs": [
    {
     "name": "stdout",
     "output_type": "stream",
     "text": [
      "USER : RETWEETS\n",
      "CONTENT \n",
      "\n",
      "Rihanna : 315547\n",
      "why aren’t we talking about this?! #FarmersProtest https://t.co/obmIlXhK9S \n",
      "\n",
      "Greta Thunberg : 103957\n",
      "We stand in solidarity with the #FarmersProtest in India.\n",
      " https://t.co/tqvR0oHgo0 \n",
      "\n",
      "Greta Thunberg : 67694\n",
      "I still #StandWithFarmers and support their peaceful protest.\n",
      "No amount of hate, threats or violations of human rights will ever change that. #FarmersProtest \n",
      "\n",
      "Mia K. : 35921\n",
      "“Paid actors,” huh? Quite the casting director, I hope they’re not overlooked during awards season. I stand with the farmers. #FarmersProtest https://t.co/moONj03tN0 \n",
      "\n",
      "Mia K. : 26972\n",
      "What in the human rights violations is going on?! They cut the internet around New Delhi?! #FarmersProtest https://t.co/a5ml1P2ikU \n",
      "\n",
      "JuJu Smith-Schuster : 23251\n",
      "Happy to share that I’ve donated $10,000 to provide medical assistance to the farmers in need in India to help save lives during these times. I hope we can prevent any additional life from being lost. 🙏🏾 #FarmersProtest https://t.co/0WoEw0l3ij \n",
      "\n",
      "Bob Blackman : 20132\n",
      "There has been much social media coverage around the #FarmersProtest in #India. Very useful guide to the legislation and the impact on farmers. 1/2 https://t.co/3CsdgBebdZ \n",
      "\n",
      "Vanessa Nakate : 18744\n",
      "Farmers feed the world. Fight for them. Protect them #FarmersProtest \n",
      "\n",
      "kuz : 17368\n",
      "Should be talking about this! #FarmersProtest\n",
      "\n",
      "https://t.co/Xh09iTvVoF \n",
      "\n",
      "Amanda Cerny : 15677\n",
      "To all of my influencer/celeb friends- read up on this   #FarmersProtest 👀 \n",
      "\n"
     ]
    }
   ],
   "source": [
    "print(\"USER : RETWEETS\")\n",
    "print(\"CONTENT\", \"\\n\")\n",
    "\n",
    "for tweet in topten_most_retweeted:\n",
    "    print(f\"{tweet[0]} : {tweet[1]}\")\n",
    "    print(tweet[2], \"\\n\")"
   ]
  },
  {
   "cell_type": "markdown",
   "metadata": {},
   "source": [
    "## 2. Top 10 users by n° of emitted tweets"
   ]
  },
  {
   "cell_type": "code",
   "execution_count": null,
   "metadata": {},
   "outputs": [],
   "source": [
    "## QUERY: \"user\" (object) --> {\"id\": my_id, \"name\": my_name, ...}\n",
    "\n",
    "from collections import defaultdict, Counter\n",
    "\n",
    "def retrieve_most_active_users(n_highests: int=10):\n",
    "    \"\"\"Finds most active users of dataset, by number of tweets.\n",
    "\n",
    "    Args:\n",
    "        n_highests (int): The first n highest users by number of tweets to return.\n",
    "\n",
    "    Returns:\n",
    "        list: returns a list of tuple pairs of displayname and counter, sorted.\n",
    "\n",
    "    \"\"\"\n",
    "\n",
    "\n",
    "    # {uid_1: counter_1, uid_2: counter_2, ...}\n",
    "    users_and_tweets_counter = defaultdict(int)\n",
    "    \n",
    "    # {uid_1: displayname_1, uid_2: displayname_2, ...}\n",
    "    displayname_by_uid = dict()\n",
    "\n",
    "\n",
    "    for tweet in load_tweets():\n",
    "\n",
    "        user_id = tweet[\"user\"][\"id\"]\n",
    "        users_and_tweets_counter[user_id] += 1\n",
    "        displayname_by_uid[user_id] = tweet[\"user\"][\"displayname\"]\n",
    "\n",
    "    # [(id_1: int, counter_1: int), (id_2, counter_2), ... , (id_10, counter_10)]\n",
    "    most_active_uids = Counter(users_and_tweets_counter).most_common(n_highests)\n",
    "\n",
    "    # [(name_1: str, counter_1: int), (name_2, counter_2), ... , (name_10, counter_10)]\n",
    "    return [(displayname_by_uid[user_id], n_tweets) for user_id, n_tweets  in most_active_uids]\n"
   ]
  },
  {
   "cell_type": "markdown",
   "metadata": {},
   "source": [
    "### Example"
   ]
  },
  {
   "cell_type": "code",
   "execution_count": 19,
   "metadata": {},
   "outputs": [
    {
     "name": "stdout",
     "output_type": "stream",
     "text": [
      "Top 10 most retweeted found!\n"
     ]
    }
   ],
   "source": [
    "most_active_users = retrieve_most_active_users()\n",
    "print(f\"Top {len(most_active_users)} most retweeted found!\")"
   ]
  },
  {
   "cell_type": "code",
   "execution_count": 20,
   "metadata": {},
   "outputs": [
    {
     "data": {
      "text/plain": [
       "[('Harjot Singh', 7134),\n",
       " ('ਕਿਸਾਨAndolajivi ravinder kaur चोकीदार ही कातिल है', 2091),\n",
       " ('Jaspal Kaur Bains.For love of Punjab,Sikhi & India', 1991),\n",
       " ('Jot', 1841),\n",
       " ('Theinactiveactivist', 1806),\n",
       " ('🍊raman🚜', 1722),\n",
       " ('Jaz 🇨🇦🌾ਗਰਮ ਖਿਆਲੀ 📌', 1502),\n",
       " ('JassG', 1460),\n",
       " ('Kisan Bot🚜🌾', 1453),\n",
       " ('mohd khaliquzzama', 1446)]"
      ]
     },
     "execution_count": 20,
     "metadata": {},
     "output_type": "execute_result"
    }
   ],
   "source": [
    "most_active_users"
   ]
  },
  {
   "cell_type": "markdown",
   "metadata": {},
   "source": [
    "## 3. Top 10 days with most tweets"
   ]
  },
  {
   "cell_type": "code",
   "execution_count": 37,
   "metadata": {},
   "outputs": [],
   "source": [
    "## \"date\": \"2021-03-30T03:33:46+00:00\"\n",
    "## QUERY: \"user\" (object) --> {\"id\": my_id, \"name\": my_name, ...}\n",
    "\n",
    "from datetime import datetime\n",
    "from collections import defaultdict, Counter\n",
    "\n",
    "def retrieve_most_active_days(n_highests: int=10):\n",
    "    \"\"\"Finds most active users of dataset, by number of tweets.\n",
    "\n",
    "    Args:\n",
    "        n_highests (int): The first n days to return, by highest activity.\n",
    "\n",
    "    Returns:\n",
    "        list: returns a list of tuple pairs of date and counter, sorted.\n",
    "\n",
    "    \"\"\"\n",
    "\n",
    "\n",
    "    # {date_1: counter_1, date_2: counter_2, ...}\n",
    "    days_and_tweets_counter = defaultdict(int)\n",
    "    \n",
    "\n",
    "    for tweet in load_tweets():\n",
    "\n",
    "        # day = datetime.strftime(\n",
    "        #     datetime.strptime(\n",
    "        #     tweet[\"date\"], '%Y-%m-%dT%H:%M:%S+00:00'),\n",
    "        #     '%a-%b-%d-%Y'\n",
    "        # )\n",
    "\n",
    "        # %Y-%m-%d\n",
    "        day = tweet[\"date\"].split(\"T\")[0]\n",
    "\n",
    "        days_and_tweets_counter[day] += 1\n",
    "\n",
    "\n",
    "    # [(date_1: int, counter_1: int), (date_2, counter_2), ... , (date_10, counter_10)]\n",
    "    return Counter(days_and_tweets_counter).most_common(n_highests)\n"
   ]
  },
  {
   "cell_type": "code",
   "execution_count": 38,
   "metadata": {},
   "outputs": [
    {
     "name": "stdout",
     "output_type": "stream",
     "text": [
      "Top 10 most active days found!\n"
     ]
    }
   ],
   "source": [
    "most_active_days = retrieve_most_active_days()\n",
    "print(f\"Top {len(most_active_days)} most active days found!\")"
   ]
  },
  {
   "cell_type": "code",
   "execution_count": 39,
   "metadata": {},
   "outputs": [
    {
     "data": {
      "text/plain": [
       "[('2021-02-03', 83866),\n",
       " ('2021-02-04', 58607),\n",
       " ('2021-02-05', 33332),\n",
       " ('2021-02-02', 28548),\n",
       " ('2021-02-06', 22420),\n",
       " ('2021-02-07', 11325),\n",
       " ('2021-02-09', 9320),\n",
       " ('2021-02-08', 8920),\n",
       " ('2021-02-10', 7973),\n",
       " ('2021-02-11', 5698)]"
      ]
     },
     "execution_count": 39,
     "metadata": {},
     "output_type": "execute_result"
    }
   ],
   "source": [
    "most_active_days"
   ]
  },
  {
   "cell_type": "markdown",
   "metadata": {},
   "source": [
    "## 4. Top 10 most used hashtags"
   ]
  },
  {
   "cell_type": "code",
   "execution_count": null,
   "metadata": {},
   "outputs": [],
   "source": []
  }
 ],
 "metadata": {
  "interpreter": {
   "hash": "e7370f93d1d0cde622a1f8e1c04877d8463912d04d973331ad4851f04de6915a"
  },
  "kernelspec": {
   "display_name": "Python 3.10.2 64-bit",
   "language": "python",
   "name": "python3"
  },
  "language_info": {
   "codemirror_mode": {
    "name": "ipython",
    "version": 3
   },
   "file_extension": ".py",
   "mimetype": "text/x-python",
   "name": "python",
   "nbconvert_exporter": "python",
   "pygments_lexer": "ipython3",
   "version": "3.9.9"
  },
  "orig_nbformat": 4
 },
 "nbformat": 4,
 "nbformat_minor": 2
}
